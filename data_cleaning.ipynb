{
  "nbformat": 4,
  "nbformat_minor": 0,
  "metadata": {
    "colab": {
      "provenance": []
    },
    "kernelspec": {
      "name": "python3",
      "display_name": "Python 3"
    },
    "language_info": {
      "name": "python"
    }
  },
  "cells": [
    {
      "cell_type": "code",
      "execution_count": null,
      "metadata": {
        "id": "8Dw3Ye-k1Gv0"
      },
      "outputs": [],
      "source": [
        "import pandas as pd"
      ]
    },
    {
      "cell_type": "code",
      "source": [
        "ACCOUNT_INFO = \"account_info.csv\"\n",
        "TRANSACTIONS = \"transactions.csv\""
      ],
      "metadata": {
        "id": "dUgbmLR24aIN"
      },
      "execution_count": null,
      "outputs": []
    },
    {
      "cell_type": "code",
      "source": [
        "account_info = pd.read_csv(ACCOUNT_INFO)\n",
        "transactions = pd.read_csv(TRANSACTIONS)"
      ],
      "metadata": {
        "id": "5pvKeH9p4lm8"
      },
      "execution_count": null,
      "outputs": []
    },
    {
      "cell_type": "code",
      "source": [
        "#take a look at the shape of the two tables\n",
        "print(account_info.shape)\n",
        "print(transactions.shape)"
      ],
      "metadata": {
        "colab": {
          "base_uri": "https://localhost:8080/"
        },
        "id": "wdeqQnwi40qF",
        "outputId": "9371773c-6691-4012-a035-7d1b5c9421d2"
      },
      "execution_count": null,
      "outputs": [
        {
          "output_type": "stream",
          "name": "stdout",
          "text": [
            "(204, 12)\n",
            "(2522, 8)\n"
          ]
        }
      ]
    },
    {
      "cell_type": "code",
      "source": [
        "account_info.head(3)"
      ],
      "metadata": {
        "colab": {
          "base_uri": "https://localhost:8080/",
          "height": 312
        },
        "id": "On_azWWX9eo1",
        "outputId": "847d961b-4a63-4826-98f5-1450288bf148"
      },
      "execution_count": null,
      "outputs": [
        {
          "output_type": "execute_result",
          "data": {
            "text/plain": [
              "   last_name  first_name       street_address  unit         city  state  \\\n",
              "0       Dark      Joseph  7 B Blue Ridge Blvd   NaN     Brighton     MI   \n",
              "1      James        Butt   6649 N Blue Gum St   NaN  New Orleans     LA   \n",
              "2  Josephine     Darakjy  4 B Blue Ridge Blvd   NaN     Brighton     MI   \n",
              "\n",
              "     zip        dob          ssn                  email_address  \\\n",
              "0  48116   3/1/1975  205-81-3991             jdarky@darakjy.org   \n",
              "1  70116  7/29/1965  508-60-8859                jbutt@gmail.com   \n",
              "2  48116   3/1/1975  205-81-3006  josephine_darakjy@darakjy.org   \n",
              "\n",
              "   mobile_number  account_number  \n",
              "0     5046218927           43991  \n",
              "1     7134926037           26522  \n",
              "2     5046218927           31938  "
            ],
            "text/html": [
              "\n",
              "  <div id=\"df-46ea9775-cc6d-4f09-8572-26bc2d47a062\">\n",
              "    <div class=\"colab-df-container\">\n",
              "      <div>\n",
              "<style scoped>\n",
              "    .dataframe tbody tr th:only-of-type {\n",
              "        vertical-align: middle;\n",
              "    }\n",
              "\n",
              "    .dataframe tbody tr th {\n",
              "        vertical-align: top;\n",
              "    }\n",
              "\n",
              "    .dataframe thead th {\n",
              "        text-align: right;\n",
              "    }\n",
              "</style>\n",
              "<table border=\"1\" class=\"dataframe\">\n",
              "  <thead>\n",
              "    <tr style=\"text-align: right;\">\n",
              "      <th></th>\n",
              "      <th>last_name</th>\n",
              "      <th>first_name</th>\n",
              "      <th>street_address</th>\n",
              "      <th>unit</th>\n",
              "      <th>city</th>\n",
              "      <th>state</th>\n",
              "      <th>zip</th>\n",
              "      <th>dob</th>\n",
              "      <th>ssn</th>\n",
              "      <th>email_address</th>\n",
              "      <th>mobile_number</th>\n",
              "      <th>account_number</th>\n",
              "    </tr>\n",
              "  </thead>\n",
              "  <tbody>\n",
              "    <tr>\n",
              "      <th>0</th>\n",
              "      <td>Dark</td>\n",
              "      <td>Joseph</td>\n",
              "      <td>7 B Blue Ridge Blvd</td>\n",
              "      <td>NaN</td>\n",
              "      <td>Brighton</td>\n",
              "      <td>MI</td>\n",
              "      <td>48116</td>\n",
              "      <td>3/1/1975</td>\n",
              "      <td>205-81-3991</td>\n",
              "      <td>jdarky@darakjy.org</td>\n",
              "      <td>5046218927</td>\n",
              "      <td>43991</td>\n",
              "    </tr>\n",
              "    <tr>\n",
              "      <th>1</th>\n",
              "      <td>James</td>\n",
              "      <td>Butt</td>\n",
              "      <td>6649 N Blue Gum St</td>\n",
              "      <td>NaN</td>\n",
              "      <td>New Orleans</td>\n",
              "      <td>LA</td>\n",
              "      <td>70116</td>\n",
              "      <td>7/29/1965</td>\n",
              "      <td>508-60-8859</td>\n",
              "      <td>jbutt@gmail.com</td>\n",
              "      <td>7134926037</td>\n",
              "      <td>26522</td>\n",
              "    </tr>\n",
              "    <tr>\n",
              "      <th>2</th>\n",
              "      <td>Josephine</td>\n",
              "      <td>Darakjy</td>\n",
              "      <td>4 B Blue Ridge Blvd</td>\n",
              "      <td>NaN</td>\n",
              "      <td>Brighton</td>\n",
              "      <td>MI</td>\n",
              "      <td>48116</td>\n",
              "      <td>3/1/1975</td>\n",
              "      <td>205-81-3006</td>\n",
              "      <td>josephine_darakjy@darakjy.org</td>\n",
              "      <td>5046218927</td>\n",
              "      <td>31938</td>\n",
              "    </tr>\n",
              "  </tbody>\n",
              "</table>\n",
              "</div>\n",
              "      <button class=\"colab-df-convert\" onclick=\"convertToInteractive('df-46ea9775-cc6d-4f09-8572-26bc2d47a062')\"\n",
              "              title=\"Convert this dataframe to an interactive table.\"\n",
              "              style=\"display:none;\">\n",
              "        \n",
              "  <svg xmlns=\"http://www.w3.org/2000/svg\" height=\"24px\"viewBox=\"0 0 24 24\"\n",
              "       width=\"24px\">\n",
              "    <path d=\"M0 0h24v24H0V0z\" fill=\"none\"/>\n",
              "    <path d=\"M18.56 5.44l.94 2.06.94-2.06 2.06-.94-2.06-.94-.94-2.06-.94 2.06-2.06.94zm-11 1L8.5 8.5l.94-2.06 2.06-.94-2.06-.94L8.5 2.5l-.94 2.06-2.06.94zm10 10l.94 2.06.94-2.06 2.06-.94-2.06-.94-.94-2.06-.94 2.06-2.06.94z\"/><path d=\"M17.41 7.96l-1.37-1.37c-.4-.4-.92-.59-1.43-.59-.52 0-1.04.2-1.43.59L10.3 9.45l-7.72 7.72c-.78.78-.78 2.05 0 2.83L4 21.41c.39.39.9.59 1.41.59.51 0 1.02-.2 1.41-.59l7.78-7.78 2.81-2.81c.8-.78.8-2.07 0-2.86zM5.41 20L4 18.59l7.72-7.72 1.47 1.35L5.41 20z\"/>\n",
              "  </svg>\n",
              "      </button>\n",
              "      \n",
              "  <style>\n",
              "    .colab-df-container {\n",
              "      display:flex;\n",
              "      flex-wrap:wrap;\n",
              "      gap: 12px;\n",
              "    }\n",
              "\n",
              "    .colab-df-convert {\n",
              "      background-color: #E8F0FE;\n",
              "      border: none;\n",
              "      border-radius: 50%;\n",
              "      cursor: pointer;\n",
              "      display: none;\n",
              "      fill: #1967D2;\n",
              "      height: 32px;\n",
              "      padding: 0 0 0 0;\n",
              "      width: 32px;\n",
              "    }\n",
              "\n",
              "    .colab-df-convert:hover {\n",
              "      background-color: #E2EBFA;\n",
              "      box-shadow: 0px 1px 2px rgba(60, 64, 67, 0.3), 0px 1px 3px 1px rgba(60, 64, 67, 0.15);\n",
              "      fill: #174EA6;\n",
              "    }\n",
              "\n",
              "    [theme=dark] .colab-df-convert {\n",
              "      background-color: #3B4455;\n",
              "      fill: #D2E3FC;\n",
              "    }\n",
              "\n",
              "    [theme=dark] .colab-df-convert:hover {\n",
              "      background-color: #434B5C;\n",
              "      box-shadow: 0px 1px 3px 1px rgba(0, 0, 0, 0.15);\n",
              "      filter: drop-shadow(0px 1px 2px rgba(0, 0, 0, 0.3));\n",
              "      fill: #FFFFFF;\n",
              "    }\n",
              "  </style>\n",
              "\n",
              "      <script>\n",
              "        const buttonEl =\n",
              "          document.querySelector('#df-46ea9775-cc6d-4f09-8572-26bc2d47a062 button.colab-df-convert');\n",
              "        buttonEl.style.display =\n",
              "          google.colab.kernel.accessAllowed ? 'block' : 'none';\n",
              "\n",
              "        async function convertToInteractive(key) {\n",
              "          const element = document.querySelector('#df-46ea9775-cc6d-4f09-8572-26bc2d47a062');\n",
              "          const dataTable =\n",
              "            await google.colab.kernel.invokeFunction('convertToInteractive',\n",
              "                                                     [key], {});\n",
              "          if (!dataTable) return;\n",
              "\n",
              "          const docLinkHtml = 'Like what you see? Visit the ' +\n",
              "            '<a target=\"_blank\" href=https://colab.research.google.com/notebooks/data_table.ipynb>data table notebook</a>'\n",
              "            + ' to learn more about interactive tables.';\n",
              "          element.innerHTML = '';\n",
              "          dataTable['output_type'] = 'display_data';\n",
              "          await google.colab.output.renderOutput(dataTable, element);\n",
              "          const docLink = document.createElement('div');\n",
              "          docLink.innerHTML = docLinkHtml;\n",
              "          element.appendChild(docLink);\n",
              "        }\n",
              "      </script>\n",
              "    </div>\n",
              "  </div>\n",
              "  "
            ]
          },
          "metadata": {},
          "execution_count": 6
        }
      ]
    },
    {
      "cell_type": "code",
      "source": [
        "#delete the space at the head of the key\n",
        "print(account_info.keys())\n",
        "delete_space_keys = {}\n",
        "for value in account_info.keys():\n",
        "  if(' ' in value) == True:\n",
        "    delete_space_keys[value]=value.strip()\n",
        "print(delete_space_keys)\n",
        "account_info = account_info.rename(columns=delete_space_keys)\n",
        "print(account_info.keys())"
      ],
      "metadata": {
        "colab": {
          "base_uri": "https://localhost:8080/"
        },
        "id": "0Pe5QDAN_JDq",
        "outputId": "3f5c37da-17d5-4d5a-d429-d11dfad76fc7"
      },
      "execution_count": null,
      "outputs": [
        {
          "output_type": "stream",
          "name": "stdout",
          "text": [
            "Index(['last_name', ' first_name', ' street_address', ' unit', ' city',\n",
            "       ' state', ' zip', ' dob', ' ssn', ' email_address', 'mobile_number',\n",
            "       'account_number'],\n",
            "      dtype='object')\n",
            "{' first_name': 'first_name', ' street_address': 'street_address', ' unit': 'unit', ' city': 'city', ' state': 'state', ' zip': 'zip', ' dob': 'dob', ' ssn': 'ssn', ' email_address': 'email_address'}\n",
            "Index(['last_name', 'first_name', 'street_address', 'unit', 'city', 'state',\n",
            "       'zip', 'dob', 'ssn', 'email_address', 'mobile_number',\n",
            "       'account_number'],\n",
            "      dtype='object')\n"
          ]
        }
      ]
    },
    {
      "cell_type": "code",
      "source": [
        "#check duplicate rows with the same account number\n",
        "check_duplicate = account_info.duplicated(subset=['account_number'])\n",
        "print(check_duplicate[check_duplicate==True].size)"
      ],
      "metadata": {
        "colab": {
          "base_uri": "https://localhost:8080/"
        },
        "id": "v73qzfFs5A7n",
        "outputId": "a1a4b8a7-ee3e-4f5b-c232-48aa4713cdf9"
      },
      "execution_count": null,
      "outputs": [
        {
          "output_type": "stream",
          "name": "stdout",
          "text": [
            "0\n"
          ]
        }
      ]
    },
    {
      "cell_type": "code",
      "source": [
        "print(transactions.keys())"
      ],
      "metadata": {
        "colab": {
          "base_uri": "https://localhost:8080/"
        },
        "id": "GUPKMzT072io",
        "outputId": "a471c4c2-da23-4ac2-d43c-b4bae504e67a"
      },
      "execution_count": null,
      "outputs": [
        {
          "output_type": "stream",
          "name": "stdout",
          "text": [
            "Index(['account_number', 'transaction_datetime', 'transaction_amount',\n",
            "       'post_date', 'merchant_number', 'merchant_description',\n",
            "       'merchant_category_code', 'transaction_number'],\n",
            "      dtype='object')\n"
          ]
        }
      ]
    },
    {
      "cell_type": "code",
      "source": [
        "transactions['merchant_number']"
      ],
      "metadata": {
        "colab": {
          "base_uri": "https://localhost:8080/"
        },
        "id": "zdIh0MZln_4i",
        "outputId": "728b6b66-83fb-42ff-a4ea-7e9a08e74662"
      },
      "execution_count": null,
      "outputs": [
        {
          "output_type": "execute_result",
          "data": {
            "text/plain": [
              "0       000000000326552\n",
              "1       900185000000000\n",
              "2       527021002118976\n",
              "3       000225124800999\n",
              "4       650000010604109\n",
              "             ...       \n",
              "2517    000000002355702\n",
              "2518    053894000053360\n",
              "2519      4445025811745\n",
              "2520    000021668538000\n",
              "2521    000225124800999\n",
              "Name: merchant_number, Length: 2522, dtype: object"
            ]
          },
          "metadata": {},
          "execution_count": 11
        }
      ]
    },
    {
      "cell_type": "code",
      "source": [
        "transactions.head(3)"
      ],
      "metadata": {
        "colab": {
          "base_uri": "https://localhost:8080/",
          "height": 277
        },
        "id": "yrYXLP7jrMzS",
        "outputId": "f4b15344-50e2-4955-e12d-efb56c1ba5f2"
      },
      "execution_count": null,
      "outputs": [
        {
          "output_type": "execute_result",
          "data": {
            "text/plain": [
              "   account_number transaction_datetime transaction_amount  post_date  \\\n",
              "0           26522    12182020 15:29:12              1.06-   12192020   \n",
              "1           26522    12302020 08:22:36              1.72-   12312020   \n",
              "2           11111    02192021 09:55:25           1009.90-    2202021   \n",
              "\n",
              "   merchant_number                      merchant_description  \\\n",
              "0  000000000326552  MAVERIK #488           DRAPER       LAUS   \n",
              "1  900185000000000   HARMONS - BANGERTER    DRAPER        LA   \n",
              "2  527021002118976   CFA Institute          4349515499    TX   \n",
              "\n",
              "   merchant_category_code  transaction_number  \n",
              "0                    5541                   3  \n",
              "1                    5411                   8  \n",
              "2                    8299                   1  "
            ],
            "text/html": [
              "\n",
              "  <div id=\"df-5d54094f-7476-4d6c-99bf-ce92b2656931\">\n",
              "    <div class=\"colab-df-container\">\n",
              "      <div>\n",
              "<style scoped>\n",
              "    .dataframe tbody tr th:only-of-type {\n",
              "        vertical-align: middle;\n",
              "    }\n",
              "\n",
              "    .dataframe tbody tr th {\n",
              "        vertical-align: top;\n",
              "    }\n",
              "\n",
              "    .dataframe thead th {\n",
              "        text-align: right;\n",
              "    }\n",
              "</style>\n",
              "<table border=\"1\" class=\"dataframe\">\n",
              "  <thead>\n",
              "    <tr style=\"text-align: right;\">\n",
              "      <th></th>\n",
              "      <th>account_number</th>\n",
              "      <th>transaction_datetime</th>\n",
              "      <th>transaction_amount</th>\n",
              "      <th>post_date</th>\n",
              "      <th>merchant_number</th>\n",
              "      <th>merchant_description</th>\n",
              "      <th>merchant_category_code</th>\n",
              "      <th>transaction_number</th>\n",
              "    </tr>\n",
              "  </thead>\n",
              "  <tbody>\n",
              "    <tr>\n",
              "      <th>0</th>\n",
              "      <td>26522</td>\n",
              "      <td>12182020 15:29:12</td>\n",
              "      <td>1.06-</td>\n",
              "      <td>12192020</td>\n",
              "      <td>000000000326552</td>\n",
              "      <td>MAVERIK #488           DRAPER       LAUS</td>\n",
              "      <td>5541</td>\n",
              "      <td>3</td>\n",
              "    </tr>\n",
              "    <tr>\n",
              "      <th>1</th>\n",
              "      <td>26522</td>\n",
              "      <td>12302020 08:22:36</td>\n",
              "      <td>1.72-</td>\n",
              "      <td>12312020</td>\n",
              "      <td>900185000000000</td>\n",
              "      <td>HARMONS - BANGERTER    DRAPER        LA</td>\n",
              "      <td>5411</td>\n",
              "      <td>8</td>\n",
              "    </tr>\n",
              "    <tr>\n",
              "      <th>2</th>\n",
              "      <td>11111</td>\n",
              "      <td>02192021 09:55:25</td>\n",
              "      <td>1009.90-</td>\n",
              "      <td>2202021</td>\n",
              "      <td>527021002118976</td>\n",
              "      <td>CFA Institute          4349515499    TX</td>\n",
              "      <td>8299</td>\n",
              "      <td>1</td>\n",
              "    </tr>\n",
              "  </tbody>\n",
              "</table>\n",
              "</div>\n",
              "      <button class=\"colab-df-convert\" onclick=\"convertToInteractive('df-5d54094f-7476-4d6c-99bf-ce92b2656931')\"\n",
              "              title=\"Convert this dataframe to an interactive table.\"\n",
              "              style=\"display:none;\">\n",
              "        \n",
              "  <svg xmlns=\"http://www.w3.org/2000/svg\" height=\"24px\"viewBox=\"0 0 24 24\"\n",
              "       width=\"24px\">\n",
              "    <path d=\"M0 0h24v24H0V0z\" fill=\"none\"/>\n",
              "    <path d=\"M18.56 5.44l.94 2.06.94-2.06 2.06-.94-2.06-.94-.94-2.06-.94 2.06-2.06.94zm-11 1L8.5 8.5l.94-2.06 2.06-.94-2.06-.94L8.5 2.5l-.94 2.06-2.06.94zm10 10l.94 2.06.94-2.06 2.06-.94-2.06-.94-.94-2.06-.94 2.06-2.06.94z\"/><path d=\"M17.41 7.96l-1.37-1.37c-.4-.4-.92-.59-1.43-.59-.52 0-1.04.2-1.43.59L10.3 9.45l-7.72 7.72c-.78.78-.78 2.05 0 2.83L4 21.41c.39.39.9.59 1.41.59.51 0 1.02-.2 1.41-.59l7.78-7.78 2.81-2.81c.8-.78.8-2.07 0-2.86zM5.41 20L4 18.59l7.72-7.72 1.47 1.35L5.41 20z\"/>\n",
              "  </svg>\n",
              "      </button>\n",
              "      \n",
              "  <style>\n",
              "    .colab-df-container {\n",
              "      display:flex;\n",
              "      flex-wrap:wrap;\n",
              "      gap: 12px;\n",
              "    }\n",
              "\n",
              "    .colab-df-convert {\n",
              "      background-color: #E8F0FE;\n",
              "      border: none;\n",
              "      border-radius: 50%;\n",
              "      cursor: pointer;\n",
              "      display: none;\n",
              "      fill: #1967D2;\n",
              "      height: 32px;\n",
              "      padding: 0 0 0 0;\n",
              "      width: 32px;\n",
              "    }\n",
              "\n",
              "    .colab-df-convert:hover {\n",
              "      background-color: #E2EBFA;\n",
              "      box-shadow: 0px 1px 2px rgba(60, 64, 67, 0.3), 0px 1px 3px 1px rgba(60, 64, 67, 0.15);\n",
              "      fill: #174EA6;\n",
              "    }\n",
              "\n",
              "    [theme=dark] .colab-df-convert {\n",
              "      background-color: #3B4455;\n",
              "      fill: #D2E3FC;\n",
              "    }\n",
              "\n",
              "    [theme=dark] .colab-df-convert:hover {\n",
              "      background-color: #434B5C;\n",
              "      box-shadow: 0px 1px 3px 1px rgba(0, 0, 0, 0.15);\n",
              "      filter: drop-shadow(0px 1px 2px rgba(0, 0, 0, 0.3));\n",
              "      fill: #FFFFFF;\n",
              "    }\n",
              "  </style>\n",
              "\n",
              "      <script>\n",
              "        const buttonEl =\n",
              "          document.querySelector('#df-5d54094f-7476-4d6c-99bf-ce92b2656931 button.colab-df-convert');\n",
              "        buttonEl.style.display =\n",
              "          google.colab.kernel.accessAllowed ? 'block' : 'none';\n",
              "\n",
              "        async function convertToInteractive(key) {\n",
              "          const element = document.querySelector('#df-5d54094f-7476-4d6c-99bf-ce92b2656931');\n",
              "          const dataTable =\n",
              "            await google.colab.kernel.invokeFunction('convertToInteractive',\n",
              "                                                     [key], {});\n",
              "          if (!dataTable) return;\n",
              "\n",
              "          const docLinkHtml = 'Like what you see? Visit the ' +\n",
              "            '<a target=\"_blank\" href=https://colab.research.google.com/notebooks/data_table.ipynb>data table notebook</a>'\n",
              "            + ' to learn more about interactive tables.';\n",
              "          element.innerHTML = '';\n",
              "          dataTable['output_type'] = 'display_data';\n",
              "          await google.colab.output.renderOutput(dataTable, element);\n",
              "          const docLink = document.createElement('div');\n",
              "          docLink.innerHTML = docLinkHtml;\n",
              "          element.appendChild(docLink);\n",
              "        }\n",
              "      </script>\n",
              "    </div>\n",
              "  </div>\n",
              "  "
            ]
          },
          "metadata": {},
          "execution_count": 12
        }
      ]
    },
    {
      "cell_type": "code",
      "source": [
        "transactions['transaction_amount']"
      ],
      "metadata": {
        "colab": {
          "base_uri": "https://localhost:8080/"
        },
        "id": "Hd-mbEZLrhxm",
        "outputId": "87230dce-40cf-44e1-96ea-597b5580d8b3"
      },
      "execution_count": null,
      "outputs": [
        {
          "output_type": "execute_result",
          "data": {
            "text/plain": [
              "0          1.06-\n",
              "1          1.72-\n",
              "2       1009.90-\n",
              "3         14.00-\n",
              "4          0.90-\n",
              "          ...   \n",
              "2517       4.85-\n",
              "2518      50.04-\n",
              "2519      45.73-\n",
              "2520     125.00-\n",
              "2521      14.00-\n",
              "Name: transaction_amount, Length: 2522, dtype: object"
            ]
          },
          "metadata": {},
          "execution_count": 22
        }
      ]
    },
    {
      "cell_type": "code",
      "source": [
        "#move the hyphen symbol to the front of value\n",
        "m = transactions['transaction_amount'].str.contains('-')\n",
        "transactions.loc[m,'transaction_amount'] = transactions.loc[m,'transaction_amount'].str.replace('-','')\n",
        "transactions.loc[m, 'transaction_amount'] = '-' + transactions.loc[m, 'transaction_amount'].astype(str)\n",
        "transactions['transaction_amount']"
      ],
      "metadata": {
        "colab": {
          "base_uri": "https://localhost:8080/"
        },
        "id": "tXrIbV-fGILA",
        "outputId": "b23d3031-48c3-485b-fce9-db121930d2e4"
      },
      "execution_count": null,
      "outputs": [
        {
          "output_type": "execute_result",
          "data": {
            "text/plain": [
              "0          -1.06\n",
              "1          -1.72\n",
              "2       -1009.90\n",
              "3         -14.00\n",
              "4          -0.90\n",
              "          ...   \n",
              "2517       -4.85\n",
              "2518      -50.04\n",
              "2519      -45.73\n",
              "2520     -125.00\n",
              "2521      -14.00\n",
              "Name: transaction_amount, Length: 2522, dtype: object"
            ]
          },
          "metadata": {},
          "execution_count": 23
        }
      ]
    },
    {
      "cell_type": "code",
      "source": [
        "#delete FROST in merchant_number\n",
        "bools = transactions['merchant_number'].str.fullmatch(\"FROST\",case=False)\n",
        "bools = bools[bools==True]\n",
        "first_cleaned_transactions = transactions.drop(index = bools.index)\n",
        "print(first_cleaned_transactions)"
      ],
      "metadata": {
        "colab": {
          "base_uri": "https://localhost:8080/"
        },
        "id": "MchEDvAIrwl3",
        "outputId": "a2c93c54-f9d6-4b88-a5fc-7bf344fc9236"
      },
      "execution_count": null,
      "outputs": [
        {
          "output_type": "stream",
          "name": "stdout",
          "text": [
            "      account_number transaction_datetime transaction_amount  post_date  \\\n",
            "0              26522    12182020 15:29:12              -1.06   12192020   \n",
            "1              26522    12302020 08:22:36              -1.72   12312020   \n",
            "2              11111    02192021 09:55:25           -1009.90    2202021   \n",
            "3              11111    02092021 11:15:52             -14.00    2112021   \n",
            "4              26522    01272021 09:34:44              -0.90    1272021   \n",
            "...              ...                  ...                ...        ...   \n",
            "2517           37222    02272021 15:27:57              -4.85    3012021   \n",
            "2518           37222    04012021 06:17:18             -50.04    4022021   \n",
            "2519           37222    03122021 07:33:49             -45.73    3132021   \n",
            "2520           37222    01212021 12:28:59            -125.00    1232021   \n",
            "2521           37222    02092021 11:15:52             -14.00    2112021   \n",
            "\n",
            "      merchant_number                         merchant_description  \\\n",
            "0     000000000326552     MAVERIK #488           DRAPER       LAUS   \n",
            "1     900185000000000      HARMONS - BANGERTER    DRAPER        LA   \n",
            "2     527021002118976      CFA Institute          4349515499    TX   \n",
            "3     000225124800999      CHAPULTEPEC LUPITA     HOUSTON       TX   \n",
            "4     650000010604109      PCBC SPRINGVILLE       SPRINGVILLE   LA   \n",
            "...               ...                                          ...   \n",
            "2517  000000002355702  TIGER EXPRESS          Los Angeles       CA   \n",
            "2518  053894000053360              SHELL OIL  Los Angeles       CA   \n",
            "2519    4445025811745            SHELL OIL\\t\\tLos Angeles       CA   \n",
            "2520  000021668538000               SHELL OIL Los Angeles       CA   \n",
            "2521  000225124800999      CHAPULTEPEC LUPITA     Atlanta       GA   \n",
            "\n",
            "      merchant_category_code  transaction_number  \n",
            "0                       5541                   3  \n",
            "1                       5411                   8  \n",
            "2                       8299                   1  \n",
            "3                       5812                   2  \n",
            "4                       5814                   2  \n",
            "...                      ...                 ...  \n",
            "2517                    5499                   2  \n",
            "2518                    5814                   3  \n",
            "2519                    5812                   4  \n",
            "2520                    5812                   5  \n",
            "2521                    5812                   6  \n",
            "\n",
            "[2520 rows x 8 columns]\n"
          ]
        }
      ]
    },
    {
      "cell_type": "code",
      "source": [
        "#replace \"XXUS\" with \"XX\" in 'merchant_description'\n",
        "answer = first_cleaned_transactions['merchant_description'].str.replace('US$','')\n",
        "first_cleaned_transactions['merchant_description'] = answer"
      ],
      "metadata": {
        "colab": {
          "base_uri": "https://localhost:8080/"
        },
        "id": "7rTc4S6UCBBo",
        "outputId": "0874bc14-5841-41a7-a2bb-f233a0c42cd0"
      },
      "execution_count": null,
      "outputs": [
        {
          "output_type": "stream",
          "name": "stderr",
          "text": [
            "<ipython-input-26-97f58ae62051>:1: FutureWarning: The default value of regex will change from True to False in a future version.\n",
            "  answer = first_cleaned_transactions['merchant_description'].str.replace('US$','')\n"
          ]
        }
      ]
    },
    {
      "cell_type": "code",
      "source": [
        "first_cleaned_transactions.head(3)"
      ],
      "metadata": {
        "colab": {
          "base_uri": "https://localhost:8080/",
          "height": 277
        },
        "id": "Z_5ShPb6C7mm",
        "outputId": "fb5eee13-bd02-4842-f66d-a6f385b93b17"
      },
      "execution_count": null,
      "outputs": [
        {
          "output_type": "execute_result",
          "data": {
            "text/plain": [
              "   account_number transaction_datetime transaction_amount  post_date  \\\n",
              "0           26522    12182020 15:29:12              -1.06   12192020   \n",
              "1           26522    12302020 08:22:36              -1.72   12312020   \n",
              "2           11111    02192021 09:55:25           -1009.90    2202021   \n",
              "\n",
              "   merchant_number                     merchant_description  \\\n",
              "0  000000000326552   MAVERIK #488           DRAPER       LA   \n",
              "1  900185000000000  HARMONS - BANGERTER    DRAPER        LA   \n",
              "2  527021002118976  CFA Institute          4349515499    TX   \n",
              "\n",
              "   merchant_category_code  transaction_number  \n",
              "0                    5541                   3  \n",
              "1                    5411                   8  \n",
              "2                    8299                   1  "
            ],
            "text/html": [
              "\n",
              "  <div id=\"df-56324285-2100-4730-a456-97452a86a732\">\n",
              "    <div class=\"colab-df-container\">\n",
              "      <div>\n",
              "<style scoped>\n",
              "    .dataframe tbody tr th:only-of-type {\n",
              "        vertical-align: middle;\n",
              "    }\n",
              "\n",
              "    .dataframe tbody tr th {\n",
              "        vertical-align: top;\n",
              "    }\n",
              "\n",
              "    .dataframe thead th {\n",
              "        text-align: right;\n",
              "    }\n",
              "</style>\n",
              "<table border=\"1\" class=\"dataframe\">\n",
              "  <thead>\n",
              "    <tr style=\"text-align: right;\">\n",
              "      <th></th>\n",
              "      <th>account_number</th>\n",
              "      <th>transaction_datetime</th>\n",
              "      <th>transaction_amount</th>\n",
              "      <th>post_date</th>\n",
              "      <th>merchant_number</th>\n",
              "      <th>merchant_description</th>\n",
              "      <th>merchant_category_code</th>\n",
              "      <th>transaction_number</th>\n",
              "    </tr>\n",
              "  </thead>\n",
              "  <tbody>\n",
              "    <tr>\n",
              "      <th>0</th>\n",
              "      <td>26522</td>\n",
              "      <td>12182020 15:29:12</td>\n",
              "      <td>-1.06</td>\n",
              "      <td>12192020</td>\n",
              "      <td>000000000326552</td>\n",
              "      <td>MAVERIK #488           DRAPER       LA</td>\n",
              "      <td>5541</td>\n",
              "      <td>3</td>\n",
              "    </tr>\n",
              "    <tr>\n",
              "      <th>1</th>\n",
              "      <td>26522</td>\n",
              "      <td>12302020 08:22:36</td>\n",
              "      <td>-1.72</td>\n",
              "      <td>12312020</td>\n",
              "      <td>900185000000000</td>\n",
              "      <td>HARMONS - BANGERTER    DRAPER        LA</td>\n",
              "      <td>5411</td>\n",
              "      <td>8</td>\n",
              "    </tr>\n",
              "    <tr>\n",
              "      <th>2</th>\n",
              "      <td>11111</td>\n",
              "      <td>02192021 09:55:25</td>\n",
              "      <td>-1009.90</td>\n",
              "      <td>2202021</td>\n",
              "      <td>527021002118976</td>\n",
              "      <td>CFA Institute          4349515499    TX</td>\n",
              "      <td>8299</td>\n",
              "      <td>1</td>\n",
              "    </tr>\n",
              "  </tbody>\n",
              "</table>\n",
              "</div>\n",
              "      <button class=\"colab-df-convert\" onclick=\"convertToInteractive('df-56324285-2100-4730-a456-97452a86a732')\"\n",
              "              title=\"Convert this dataframe to an interactive table.\"\n",
              "              style=\"display:none;\">\n",
              "        \n",
              "  <svg xmlns=\"http://www.w3.org/2000/svg\" height=\"24px\"viewBox=\"0 0 24 24\"\n",
              "       width=\"24px\">\n",
              "    <path d=\"M0 0h24v24H0V0z\" fill=\"none\"/>\n",
              "    <path d=\"M18.56 5.44l.94 2.06.94-2.06 2.06-.94-2.06-.94-.94-2.06-.94 2.06-2.06.94zm-11 1L8.5 8.5l.94-2.06 2.06-.94-2.06-.94L8.5 2.5l-.94 2.06-2.06.94zm10 10l.94 2.06.94-2.06 2.06-.94-2.06-.94-.94-2.06-.94 2.06-2.06.94z\"/><path d=\"M17.41 7.96l-1.37-1.37c-.4-.4-.92-.59-1.43-.59-.52 0-1.04.2-1.43.59L10.3 9.45l-7.72 7.72c-.78.78-.78 2.05 0 2.83L4 21.41c.39.39.9.59 1.41.59.51 0 1.02-.2 1.41-.59l7.78-7.78 2.81-2.81c.8-.78.8-2.07 0-2.86zM5.41 20L4 18.59l7.72-7.72 1.47 1.35L5.41 20z\"/>\n",
              "  </svg>\n",
              "      </button>\n",
              "      \n",
              "  <style>\n",
              "    .colab-df-container {\n",
              "      display:flex;\n",
              "      flex-wrap:wrap;\n",
              "      gap: 12px;\n",
              "    }\n",
              "\n",
              "    .colab-df-convert {\n",
              "      background-color: #E8F0FE;\n",
              "      border: none;\n",
              "      border-radius: 50%;\n",
              "      cursor: pointer;\n",
              "      display: none;\n",
              "      fill: #1967D2;\n",
              "      height: 32px;\n",
              "      padding: 0 0 0 0;\n",
              "      width: 32px;\n",
              "    }\n",
              "\n",
              "    .colab-df-convert:hover {\n",
              "      background-color: #E2EBFA;\n",
              "      box-shadow: 0px 1px 2px rgba(60, 64, 67, 0.3), 0px 1px 3px 1px rgba(60, 64, 67, 0.15);\n",
              "      fill: #174EA6;\n",
              "    }\n",
              "\n",
              "    [theme=dark] .colab-df-convert {\n",
              "      background-color: #3B4455;\n",
              "      fill: #D2E3FC;\n",
              "    }\n",
              "\n",
              "    [theme=dark] .colab-df-convert:hover {\n",
              "      background-color: #434B5C;\n",
              "      box-shadow: 0px 1px 3px 1px rgba(0, 0, 0, 0.15);\n",
              "      filter: drop-shadow(0px 1px 2px rgba(0, 0, 0, 0.3));\n",
              "      fill: #FFFFFF;\n",
              "    }\n",
              "  </style>\n",
              "\n",
              "      <script>\n",
              "        const buttonEl =\n",
              "          document.querySelector('#df-56324285-2100-4730-a456-97452a86a732 button.colab-df-convert');\n",
              "        buttonEl.style.display =\n",
              "          google.colab.kernel.accessAllowed ? 'block' : 'none';\n",
              "\n",
              "        async function convertToInteractive(key) {\n",
              "          const element = document.querySelector('#df-56324285-2100-4730-a456-97452a86a732');\n",
              "          const dataTable =\n",
              "            await google.colab.kernel.invokeFunction('convertToInteractive',\n",
              "                                                     [key], {});\n",
              "          if (!dataTable) return;\n",
              "\n",
              "          const docLinkHtml = 'Like what you see? Visit the ' +\n",
              "            '<a target=\"_blank\" href=https://colab.research.google.com/notebooks/data_table.ipynb>data table notebook</a>'\n",
              "            + ' to learn more about interactive tables.';\n",
              "          element.innerHTML = '';\n",
              "          dataTable['output_type'] = 'display_data';\n",
              "          await google.colab.output.renderOutput(dataTable, element);\n",
              "          const docLink = document.createElement('div');\n",
              "          docLink.innerHTML = docLinkHtml;\n",
              "          element.appendChild(docLink);\n",
              "        }\n",
              "      </script>\n",
              "    </div>\n",
              "  </div>\n",
              "  "
            ]
          },
          "metadata": {},
          "execution_count": 27
        }
      ]
    },
    {
      "cell_type": "code",
      "source": [
        "first_cleaned_transactions.to_csv('output.csv', index=False)"
      ],
      "metadata": {
        "id": "cpOaVRJpE6eD"
      },
      "execution_count": null,
      "outputs": []
    },
    {
      "cell_type": "code",
      "source": [
        "account_info.to_csv('account_info_output.csv', index=False)"
      ],
      "metadata": {
        "id": "TTQDthqXKqi_"
      },
      "execution_count": null,
      "outputs": []
    },
    {
      "cell_type": "code",
      "source": [],
      "metadata": {
        "id": "axfADCLxMOU7"
      },
      "execution_count": null,
      "outputs": []
    }
  ]
}